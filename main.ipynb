{
 "cells": [
  {
   "cell_type": "markdown",
   "id": "7bf3f08c",
   "metadata": {},
   "source": [
    "# Voici notre notebook pour le projet explain \n"
   ]
  },
  {
   "cell_type": "markdown",
   "id": "fb3d024b",
   "metadata": {},
   "source": [
    "## equipe 25"
   ]
  },
  {
   "cell_type": "code",
   "execution_count": null,
   "id": "2b8fd1b0",
   "metadata": {},
   "outputs": [],
   "source": []
  },
  {
   "cell_type": "markdown",
   "id": "c9b7212f",
   "metadata": {},
   "source": [
    "On commence par faire les imports "
   ]
  },
  {
   "cell_type": "code",
   "execution_count": 1,
   "id": "546d0a0e",
   "metadata": {},
   "outputs": [
    {
     "name": "stderr",
     "output_type": "stream",
     "text": [
      "[nltk_data] Downloading package omw-1.4 to\n",
      "[nltk_data]     /Users/yilmaz-a/nltk_data...\n",
      "[nltk_data]   Package omw-1.4 is already up-to-date!\n",
      "[nltk_data] Downloading package punkt to /Users/yilmaz-a/nltk_data...\n",
      "[nltk_data]   Package punkt is already up-to-date!\n",
      "[nltk_data] Downloading package stopwords to\n",
      "[nltk_data]     /Users/yilmaz-a/nltk_data...\n",
      "[nltk_data]   Package stopwords is already up-to-date!\n",
      "[nltk_data] Downloading package wordnet to\n",
      "[nltk_data]     /Users/yilmaz-a/nltk_data...\n",
      "[nltk_data]   Package wordnet is already up-to-date!\n"
     ]
    },
    {
     "data": {
      "text/plain": [
       "True"
      ]
     },
     "execution_count": 1,
     "metadata": {},
     "output_type": "execute_result"
    }
   ],
   "source": [
    "from tensorflow.keras.models import load_model\n",
    "import pandas as pd\n",
    "import numpy as np\n",
    "from sklearn.model_selection import train_test_split\n",
    "from tensorflow.keras.preprocessing.text import Tokenizer\n",
    "from tensorflow.keras.preprocessing.sequence import pad_sequences\n",
    "from sklearn.preprocessing import MultiLabelBinarizer\n",
    "from keras.models import Sequential\n",
    "from tensorflow.keras.models import Model\n",
    "from tensorflow.keras.layers import Embedding, Conv1D, MaxPooling1D, Bidirectional, LSTM, GlobalMaxPooling1D, Dense, Dropout, Input\n",
    "from tensorflow.keras.optimizers import Adam\n",
    "from sklearn.metrics import f1_score, classification_report\n",
    "from sklearn.metrics import precision_score, recall_score, f1_score, roc_curve, auc, confusion_matrix\n",
    "import seaborn as sns\n",
    "import ast\n",
    "import matplotlib.pyplot as plt\n",
    "from bs4 import BeautifulSoup\n",
    "import nltk\n",
    "from nltk.corpus import stopwords\n",
    "from nltk.stem import WordNetLemmatizer\n",
    "from nltk.tokenize import word_tokenize\n",
    "from lime.lime_text import LimeTextExplainer\n",
    "import ipywidgets as widgets\n",
    "from IPython.display import display\n",
    "nltk.download('omw-1.4')\n",
    "nltk.download('punkt')\n",
    "nltk.download('stopwords')\n",
    "nltk.download('wordnet')"
   ]
  },
  {
   "cell_type": "markdown",
   "id": "2e4689e5",
   "metadata": {},
   "source": [
    "---"
   ]
  },
  {
   "cell_type": "markdown",
   "id": "52987d4f",
   "metadata": {},
   "source": [
    "## Voici le code avec lequel nous avons créé notre fichier contenant les données lemanisées"
   ]
  },
  {
   "cell_type": "markdown",
   "id": "03acbca6",
   "metadata": {},
   "source": [
    "On commence par importer les données et supprimer les balises html"
   ]
  },
  {
   "cell_type": "raw",
   "id": "9536f9f5",
   "metadata": {},
   "source": [
    "df = pd.read_excel(\"data.xlsx\")\n",
    "def extract_text(html):\n",
    "    if html:  # Vérifie que html n'est pas None ou vide\n",
    "        soup = BeautifulSoup(html, \"html.parser\")\n",
    "        return soup.get_text(strip=True)  # strip=True pour enlever les espaces blancs inutiles\n",
    "    return \"\"  # Retourne une chaîne vide si html est None ou vide"
   ]
  },
  {
   "cell_type": "markdown",
   "id": "a8956398",
   "metadata": {},
   "source": [
    "On applique la fonction créée plus tôt"
   ]
  },
  {
   "cell_type": "raw",
   "id": "5a81d789",
   "metadata": {},
   "source": [
    "df['clean_claim'] = df['claim'].apply(extract_text)\n",
    "df['clean_description'] = df['description'].apply(extract_text)"
   ]
  },
  {
   "cell_type": "markdown",
   "id": "5a3a88d6",
   "metadata": {},
   "source": [
    "On supprime les anciennes colonnes obsolètes"
   ]
  },
  {
   "cell_type": "raw",
   "id": "d461866c",
   "metadata": {},
   "source": [
    "df = df.drop(columns=[col for col in ['claim', 'description'] if col in df.columns])"
   ]
  },
  {
   "cell_type": "markdown",
   "id": "19bc9396",
   "metadata": {},
   "source": [
    "On crée la fonction qui va lemaniser les textes afin de pouvoir les traiter par la suite "
   ]
  },
  {
   "cell_type": "raw",
   "id": "485ee097",
   "metadata": {},
   "source": [
    "def cleaning(text):\n",
    "    # Définir les stopwords et le lemmatizer\n",
    "    stop_words = set(stopwords.words('english'))\n",
    "    lemmatizer = WordNetLemmatizer()\n",
    "\n",
    "    # Processus de nettoyage\n",
    "    tokens = word_tokenize(text.lower())  # Tokenisation et mise en minuscule\n",
    "    tokens = [token for token in tokens if token.isalnum()]  # Suppression de la ponctuation\n",
    "    tokens = [token for token in tokens if token not in stop_words]  # Suppression des stopwords\n",
    "    tokens = [lemmatizer.lemmatize(token) for token in tokens]  # Lemmatisation\n",
    "\n",
    "    # Retourne une chaîne de caractères\n",
    "    return ' '.join(tokens)"
   ]
  },
  {
   "cell_type": "markdown",
   "id": "17b67630",
   "metadata": {},
   "source": [
    "On applique la fonction à la colonne clean_claim_lem qui est la seule que l'on va utiliser dans la suite du code"
   ]
  },
  {
   "cell_type": "raw",
   "id": "3f61c7ec",
   "metadata": {},
   "source": [
    "df['clean_claim_lem'] = df['clean_claim'].apply(cleaning)\n",
    "df[\"clean_claim_lem\"].head()"
   ]
  },
  {
   "cell_type": "markdown",
   "id": "7a1a63c4",
   "metadata": {},
   "source": [
    "Nous avons stocké la df résultante de ce code dans un fichier afin de ne pas perdre de temps à relancer le code a chaque fois que nous aurons besoin de faire des tests. Nous avons stocké les données dans le fichier \"tst.csv\""
   ]
  },
  {
   "cell_type": "markdown",
   "id": "be5d55b0",
   "metadata": {},
   "source": [
    "---"
   ]
  },
  {
   "cell_type": "markdown",
   "id": "413c7d93",
   "metadata": {},
   "source": [
    "## chargement du fichier\n"
   ]
  },
  {
   "cell_type": "markdown",
   "id": "dce6f24e",
   "metadata": {},
   "source": [
    "Nous allons donc maintenant arriver dans le code qui permet de créer le modèle et pour cela nous commençons par charger le fichier qui a été crée grâce au code au ci-dessus"
   ]
  },
  {
   "cell_type": "markdown",
   "id": "d861b2b4",
   "metadata": {},
   "source": [
    " On charge les données et ne gardons que les colonnes qui nous intéresse "
   ]
  },
  {
   "cell_type": "code",
   "execution_count": 2,
   "id": "28dda992",
   "metadata": {},
   "outputs": [],
   "source": [
    "df = pd.read_csv(\"tst.csv\")\n",
    "df = df[['clean_claim_lem', 'CPC']]"
   ]
  },
  {
   "cell_type": "markdown",
   "id": "d41703da",
   "metadata": {},
   "source": [
    "Ensuite nous avons créé une fonction qui permet de convertir la colonne CPC en liste car elle est lue en temps que str"
   ]
  },
  {
   "cell_type": "code",
   "execution_count": 3,
   "id": "44643adf",
   "metadata": {},
   "outputs": [],
   "source": [
    "def convert_to_list(cpc_value):\n",
    "    try:\n",
    "        return ast.literal_eval(cpc_value)\n",
    "    except (ValueError, SyntaxError):\n",
    "        return cpc_value"
   ]
  },
  {
   "cell_type": "markdown",
   "id": "db6eafa5",
   "metadata": {},
   "source": [
    "Nous appliquons la fonction et supprimons les doublons en passsant par un set "
   ]
  },
  {
   "cell_type": "code",
   "execution_count": 4,
   "id": "9433ca1b",
   "metadata": {},
   "outputs": [],
   "source": [
    "df.loc[:, 'CPC'] = df['CPC'].apply(convert_to_list)\n",
    "df['CPC'] = df['CPC'].apply(lambda x: list(set(x)))"
   ]
  },
  {
   "cell_type": "markdown",
   "id": "14ed2162",
   "metadata": {},
   "source": [
    "Nous créons ensuite les colonnes labels et sub_catégories qui vont respectivement contenir la catégorie principale et la première sous-catégorie du classement CPC "
   ]
  },
  {
   "cell_type": "code",
   "execution_count": 5,
   "id": "39ed93de",
   "metadata": {},
   "outputs": [],
   "source": [
    "df['labels'] = df['CPC'].apply(lambda x: list(set(item[0] for item in x)))\n",
    "df['sub_categories'] = df['CPC'].apply(lambda x: list(set(item[:3] for item in x)))"
   ]
  },
  {
   "cell_type": "raw",
   "id": "d6d094a3",
   "metadata": {},
   "source": [
    "On renomme la colonne clean_claim_lem en \"text\" pour plus de clarté "
   ]
  },
  {
   "cell_type": "code",
   "execution_count": 6,
   "id": "3c134a0b",
   "metadata": {},
   "outputs": [],
   "source": [
    "df = df.rename(columns={'clean_claim_lem': 'text'})\n"
   ]
  },
  {
   "cell_type": "markdown",
   "id": "75167832",
   "metadata": {},
   "source": [
    "---"
   ]
  },
  {
   "cell_type": "markdown",
   "id": "769b1173",
   "metadata": {},
   "source": [
    "---"
   ]
  },
  {
   "cell_type": "markdown",
   "id": "74e79658",
   "metadata": {},
   "source": [
    "---"
   ]
  },
  {
   "cell_type": "markdown",
   "id": "0e158c82",
   "metadata": {},
   "source": [
    "### Afin de visualiser les données nous allons effectuer les plots d'élements de chaque catégorie et sous-catégorie  "
   ]
  },
  {
   "cell_type": "code",
   "execution_count": 7,
   "id": "10b9fc3c",
   "metadata": {},
   "outputs": [],
   "source": [
    "label_counts = df['labels'].apply(pd.Series).stack().value_counts()\n",
    "sub_category_counts = df['sub_categories'].apply(pd.Series).stack().value_counts()"
   ]
  },
  {
   "cell_type": "code",
   "execution_count": 8,
   "id": "178a639e",
   "metadata": {},
   "outputs": [
    {
     "data": {
      "image/png": "[encoded data removed]",
      "text/plain": [
       "<Figure size 1400x800 with 1 Axes>"
      ]
     },
     "metadata": {},
     "output_type": "display_data"
    }
   ],
   "source": [
    "plt.figure(figsize=(14, 8))  # Taille de la figure\n",
    "bars = label_counts.plot(kind='bar', color='skyblue', edgecolor='black')  # Plot des barres\n",
    "plt.title('Nombre de lignes par classe principale', fontsize=16)  # Titre\n",
    "plt.xlabel('Classe principale', fontsize=14)  # Étiquette axe des x\n",
    "plt.ylabel('Nombre de lignes', fontsize=14)  # Étiquette axe des y\n",
    "plt.xticks(rotation=45, ha='right')  # Rotation des étiquettes axe des x\n",
    "plt.grid(axis='y', linestyle='--', alpha=0.7)  # Grille\n",
    "\n",
    "# Ajout des annotations (valeurs au-dessus des barres)\n",
    "for bar in bars.patches:\n",
    "    plt.annotate(format(bar.get_height(), '.0f'), \n",
    "                 (bar.get_x() + bar.get_width() / 2, bar.get_height()), \n",
    "                 ha='center', va='center', \n",
    "                 xytext=(0, 5), \n",
    "                 textcoords='offset points')\n",
    "\n",
    "plt.tight_layout()  # Ajustement automatique des marges\n",
    "plt.show()"
   ]
  },
  {
   "cell_type": "code",
   "execution_count": 9,
   "id": "8c588521",
   "metadata": {
    "scrolled": true
   },
   "outputs": [
    {
     "data": {
      "image/png": "[encoded data removed]",
      "text/plain": [
       "<Figure size 1200x600 with 1 Axes>"
      ]
     },
     "metadata": {},
     "output_type": "display_data"
    }
   ],
   "source": [
    "sub_category_counts = df['sub_categories'].apply(pd.Series).stack().value_counts()\n",
    "plt.figure(figsize=(12, 6))\n",
    "bars = sub_category_counts.plot(kind='bar', color='lightgreen', edgecolor='black')  \n",
    "plt.title('Nombre de lignes par sous-catégorie', fontsize=16)  \n",
    "plt.xlabel('Sous-catégorie', fontsize=14) \n",
    "plt.ylabel('Nombre de lignes', fontsize=14)\n",
    "plt.xticks(rotation=90) \n",
    "plt.grid(axis='y', linestyle='--', alpha=0.7) \n",
    "\n",
    "\n",
    "\n",
    "plt.tight_layout()\n",
    "plt.show()"
   ]
  },
  {
   "cell_type": "markdown",
   "id": "aa25b123",
   "metadata": {},
   "source": [
    "Nous obervons que la df contient énormement de catégories et sous-catégories qui sont très et trop sous-représentées"
   ]
  },
  {
   "cell_type": "markdown",
   "id": "1a1b3141",
   "metadata": {},
   "source": [
    "Afin d'avoir un modele pouvant être entraîné correctement nous allons supprimer toutes les sous-catégories qui n'ont pas un minimum de 1500 lignes "
   ]
  },
  {
   "cell_type": "markdown",
   "id": "0a3de906",
   "metadata": {},
   "source": [
    "Cette manière de fonctionner va nous permettre de ne garder que les classes sur lesquels le modèle pourra s'entrainer efficacement "
   ]
  },
  {
   "cell_type": "markdown",
   "id": "813e6961",
   "metadata": {},
   "source": [
    "On commence par selectionner les catégories valides"
   ]
  },
  {
   "cell_type": "code",
   "execution_count": 10,
   "id": "3148498d",
   "metadata": {},
   "outputs": [],
   "source": [
    "min_label_samples = 1500\n",
    "valid_labels = label_counts[label_counts >= min_label_samples].index.tolist()\n"
   ]
  },
  {
   "cell_type": "markdown",
   "id": "094566e3",
   "metadata": {},
   "source": [
    "On ne garde que les catégories valides et supprimons les lignes qui n'ont plus de catégorie"
   ]
  },
  {
   "cell_type": "code",
   "execution_count": 11,
   "id": "55e01f62",
   "metadata": {},
   "outputs": [],
   "source": [
    "df['labels'] = df['labels'].apply(lambda labels: [label for label in labels if label in valid_labels])\n",
    "df = df[df['labels'].map(len) > 0]\n",
    "\n"
   ]
  },
  {
   "cell_type": "markdown",
   "id": "15ddd621",
   "metadata": {},
   "source": [
    "On filtre les-sous catégorie en fonctions des catégories principales, on applique aussi le filtre des 400 sur les sous-catégories"
   ]
  },
  {
   "cell_type": "code",
   "execution_count": 12,
   "id": "6445d161",
   "metadata": {},
   "outputs": [],
   "source": [
    "sub_category_counts = df['sub_categories'].apply(pd.Series).stack().value_counts()\n",
    "min_sub_category_samples = 500\n",
    "valid_sub_categories = sub_category_counts[sub_category_counts >= min_sub_category_samples].index.tolist()\n",
    "\n"
   ]
  },
  {
   "cell_type": "markdown",
   "id": "7beb1509",
   "metadata": {},
   "source": [
    "On garde les sous-catégories valident et on supprime les lignes n'ayant plus de sous-catégorie "
   ]
  },
  {
   "cell_type": "code",
   "execution_count": 13,
   "id": "ee5320b1",
   "metadata": {},
   "outputs": [],
   "source": [
    "df['sub_categories'] = df['sub_categories'].apply(lambda sub_cats: [sub_cat for sub_cat in sub_cats if sub_cat in valid_sub_categories])\n",
    "df = df[df['sub_categories'].map(len) > 0]"
   ]
  },
  {
   "cell_type": "markdown",
   "id": "27a989a2",
   "metadata": {},
   "source": [
    "On peut maintenant recompter les catégories pour les prochains plots"
   ]
  },
  {
   "cell_type": "code",
   "execution_count": 14,
   "id": "87b30392",
   "metadata": {},
   "outputs": [],
   "source": [
    "label_counts = df['labels'].apply(pd.Series).stack().value_counts()\n",
    "sub_category_counts = df['sub_categories'].apply(pd.Series).stack().value_counts()"
   ]
  },
  {
   "cell_type": "markdown",
   "id": "34053096",
   "metadata": {},
   "source": [
    "---"
   ]
  },
  {
   "cell_type": "markdown",
   "id": "030e881a",
   "metadata": {},
   "source": [
    "On peut maintenant réafficher les plots avec les catégories que nous allons utiliser "
   ]
  },
  {
   "cell_type": "code",
   "execution_count": 15,
   "id": "474af2b8",
   "metadata": {},
   "outputs": [
    {
     "data": {
      "image/png": "[encoded data removed]",
      "text/plain": [
       "<Figure size 1400x800 with 1 Axes>"
      ]
     },
     "metadata": {},
     "output_type": "display_data"
    }
   ],
   "source": [
    "\n",
    "\n",
    "plt.figure(figsize=(14, 8))  # Taille de la figure\n",
    "bars = label_counts.plot(kind='bar', color='skyblue', edgecolor='black')  # Plot des barres\n",
    "plt.title('Nombre de lignes par classe principale', fontsize=16)  # Titre\n",
    "plt.xlabel('Classe principale', fontsize=14)  # Étiquette axe des x\n",
    "plt.ylabel('Nombre de lignes', fontsize=14)  # Étiquette axe des y\n",
    "plt.xticks(rotation=45, ha='right')  # Rotation des étiquettes axe des x\n",
    "plt.grid(axis='y', linestyle='--', alpha=0.7)  # Grille\n",
    "\n",
    "# Ajout des annotations (valeurs au-dessus des barres)\n",
    "for bar in bars.patches:\n",
    "    plt.annotate(format(bar.get_height(), '.0f'), \n",
    "                 (bar.get_x() + bar.get_width() / 2, bar.get_height()), \n",
    "                 ha='center', va='center', \n",
    "                 xytext=(0, 5), \n",
    "                 textcoords='offset points')\n",
    "\n",
    "plt.tight_layout()  # Ajustement automatique des marges\n",
    "plt.show()\n"
   ]
  },
  {
   "cell_type": "markdown",
   "id": "b8cbecac",
   "metadata": {},
   "source": [
    "On continue avec les sous-catégories"
   ]
  },
  {
   "cell_type": "code",
   "execution_count": 16,
   "id": "4c5b22dd",
   "metadata": {},
   "outputs": [
    {
     "data": {
      "image/png": "[encoded data removed]",
      "text/plain": [
       "<Figure size 1200x600 with 1 Axes>"
      ]
     },
     "metadata": {},
     "output_type": "display_data"
    }
   ],
   "source": [
    "\n",
    "\n",
    "\n",
    "plt.figure(figsize=(12, 6))  # Taille de la figure\n",
    "bars = sub_category_counts.plot(kind='bar', color='lightgreen', edgecolor='black')  # Plot des barres\n",
    "plt.title('Nombre de lignes par sous-catégorie', fontsize=16)  # Titre\n",
    "plt.xlabel('Sous-catégorie', fontsize=14)  # Étiquette axe des x\n",
    "plt.ylabel('Nombre de lignes', fontsize=14)  # Étiquette axe des y\n",
    "plt.xticks(rotation=90)  # Rotation des étiquettes axe des x\n",
    "plt.grid(axis='y', linestyle='--', alpha=0.7)  # Grille\n",
    "\n",
    "\n",
    "\n",
    "plt.tight_layout()  # Ajustement automatique des marges\n",
    "plt.show()\n"
   ]
  },
  {
   "cell_type": "markdown",
   "id": "d1afa0f1",
   "metadata": {},
   "source": [
    "Le problème de sous-représentation de certaines catégories et sous-catégories est maintenant réglé "
   ]
  },
  {
   "cell_type": "markdown",
   "id": "3b2de904",
   "metadata": {},
   "source": [
    "---"
   ]
  },
  {
   "cell_type": "markdown",
   "id": "1d3d79e9",
   "metadata": {},
   "source": [
    "---"
   ]
  },
  {
   "cell_type": "markdown",
   "id": "eb03e754",
   "metadata": {},
   "source": [
    "---"
   ]
  },
  {
   "cell_type": "markdown",
   "id": "83f4e513",
   "metadata": {},
   "source": [
    "### Tokenisation, binarization et division des données"
   ]
  },
  {
   "cell_type": "markdown",
   "id": "d40d46bc",
   "metadata": {},
   "source": [
    "La base de données étant maintenant complète, nous pouvons reset l'index"
   ]
  },
  {
   "cell_type": "code",
   "execution_count": 17,
   "id": "d39744dd",
   "metadata": {},
   "outputs": [],
   "source": [
    "df.reset_index(drop=True, inplace=True)"
   ]
  },
  {
   "cell_type": "markdown",
   "id": "72c7a299",
   "metadata": {},
   "source": [
    "Nous trouvons ensuite les ensembles finaux de catégories et de sous-catégories"
   ]
  },
  {
   "cell_type": "code",
   "execution_count": 18,
   "id": "26852771",
   "metadata": {},
   "outputs": [],
   "source": [
    "all_main_labels = list(set(label for labels in df['labels'] for label in labels))\n",
    "all_sub_categories = list(set(sub for subs in df['sub_categories'] for sub in subs))\n"
   ]
  },
  {
   "cell_type": "raw",
   "id": "45fe0a2b",
   "metadata": {},
   "source": [
    "Nous allons maintenant tokeniser les données.\n",
    "La première ligne permet d'assigner un numéro au 20 000 mots les plus récurrents. Ce seront les seuls mots utilisés dans ce modèle.\n",
    "Nous appliquons ce Tokenizer sur notre colonne texte.\n",
    "Ensuite chaque texte est transformé en une séquence de mots présents dans le tokenizer. \n",
    "Pour finir pad_sequence permet de s'assurer que chaque texte aura le même nombre de mots.\n",
    "Afin de connaitre le nombre de mot à choisir, nous prenons un arrondi de la moyenne du nombre de mots présents dans séquences "
   ]
  },
  {
   "cell_type": "code",
   "execution_count": 19,
   "id": "aa15f847",
   "metadata": {},
   "outputs": [
    {
     "name": "stdout",
     "output_type": "stream",
     "text": [
      "549.0755856073412\n"
     ]
    }
   ],
   "source": [
    "tokenizer = Tokenizer(num_words=20000)\n",
    "tokenizer.fit_on_texts(df['text'])\n",
    "sequences = tokenizer.texts_to_sequences(df['text'])\n",
    "num_words_in_sequences = [len(seq) for seq in sequences]\n",
    "average_words_per_sequence = np.mean(num_words_in_sequences)\n",
    "print(average_words_per_sequence)\n",
    "X_data = pad_sequences(sequences, maxlen=300)"
   ]
  },
  {
   "cell_type": "markdown",
   "id": "93b9e58e",
   "metadata": {},
   "source": [
    "---"
   ]
  },
  {
   "cell_type": "markdown",
   "id": "e0ce15a7",
   "metadata": {},
   "source": [
    "Cette partie permet de binarizer les catégories et sous-catégories. y_data est une matrice où chaque ligne représente un texte et où chaque colonne représente une catégorie. Une case est à 1 si le texte est de cette catégorie, sinon la case est à 0 "
   ]
  },
  {
   "cell_type": "code",
   "execution_count": 20,
   "id": "fcb0d1e7",
   "metadata": {},
   "outputs": [],
   "source": [
    "mlb = MultiLabelBinarizer(classes=all_main_labels)\n",
    "y_data_main = mlb.fit_transform(df['labels'])\n",
    "\n",
    "mlb_sub = MultiLabelBinarizer(classes=all_sub_categories)\n",
    "y_data_sub = mlb_sub.fit_transform(df['sub_categories'])"
   ]
  },
  {
   "cell_type": "markdown",
   "id": "7de22518",
   "metadata": {},
   "source": [
    "---"
   ]
  },
  {
   "cell_type": "markdown",
   "id": "33350b6d",
   "metadata": {},
   "source": [
    "Nous pouvons maintenant diviser les donner en ensemble de train et de test. Nous attribuons chaque ligne de manière random a une des deux catégories avec un ratio de 80-20 avec 80 pour les données d'entraînement"
   ]
  },
  {
   "cell_type": "code",
   "execution_count": 21,
   "id": "049c54d2",
   "metadata": {},
   "outputs": [],
   "source": [
    "X_train, X_test, y_train_main, y_test_main, y_train_sub, y_test_sub = train_test_split(X_data, y_data_main, y_data_sub, test_size=0.2, random_state=42)\n"
   ]
  },
  {
   "cell_type": "markdown",
   "id": "a1453020",
   "metadata": {},
   "source": [
    "---"
   ]
  },
  {
   "cell_type": "markdown",
   "id": "6b5f2086",
   "metadata": {},
   "source": [
    "---"
   ]
  },
  {
   "cell_type": "markdown",
   "id": "59f0fee5",
   "metadata": {},
   "source": [
    "---"
   ]
  },
  {
   "cell_type": "markdown",
   "id": "93a93cc8",
   "metadata": {},
   "source": [
    "### embedding GloVe "
   ]
  },
  {
   "cell_type": "markdown",
   "id": "b5a28498",
   "metadata": {},
   "source": [
    "La création de la matrice d'embedding est une étape cruciale de notre projet car elle va nous permettre d'avoir une représentation des mots et des liens entre ceux très complexes. "
   ]
  },
  {
   "cell_type": "markdown",
   "id": "1e917e3e",
   "metadata": {},
   "source": [
    "Elle permet de rapprocher des mots vis-a-vis d'un certain nombre de vecteur ( 200 dans notre cas ) "
   ]
  },
  {
   "cell_type": "markdown",
   "id": "2f7f5ee3",
   "metadata": {},
   "source": [
    "Cette première partie rassemble les mots avec leurs vecteur a partir du fichier télécharger glove.6B.200d.txt"
   ]
  },
  {
   "cell_type": "code",
   "execution_count": 22,
   "id": "c54426bf",
   "metadata": {},
   "outputs": [],
   "source": [
    "embedding_dim = 200\n",
    "embedding_path = 'glove.6B.200d.txt'  \n",
    "\n",
    "embeddings_index = {}\n",
    "with open(embedding_path, encoding='utf-8') as f:\n",
    "    for line in f:\n",
    "        values = line.split()\n",
    "        word = values[0]\n",
    "        coefs = np.asarray(values[1:], dtype='float32')\n",
    "        embeddings_index[word] = coefs"
   ]
  },
  {
   "cell_type": "markdown",
   "id": "1b15d995",
   "metadata": {},
   "source": [
    "La seconde partie utilise le dictionnaire crée dans la première afin de créer une matrice contenant les vecteurs de chaque mot ( dans la limite des 20 000 plus courant donnés par le tokenizer )"
   ]
  },
  {
   "cell_type": "code",
   "execution_count": 23,
   "id": "a7b8d3a2",
   "metadata": {},
   "outputs": [],
   "source": [
    "word_index = tokenizer.word_index\n",
    "num_words = min(20000, len(word_index) + 1)\n",
    "embedding_matrix = np.zeros((num_words, embedding_dim))\n",
    "for word, i in word_index.items():\n",
    "    if i >= 20000:\n",
    "        continue\n",
    "    embedding_vector = embeddings_index.get(word)\n",
    "    if embedding_vector is not None:\n",
    "        embedding_matrix[i] = embedding_vector\n"
   ]
  },
  {
   "cell_type": "markdown",
   "id": "44708401",
   "metadata": {},
   "source": [
    "---"
   ]
  },
  {
   "cell_type": "markdown",
   "id": "6c849f8f",
   "metadata": {},
   "source": [
    "---"
   ]
  },
  {
   "cell_type": "markdown",
   "id": "c6bd110c",
   "metadata": {},
   "source": [
    "---"
   ]
  },
  {
   "cell_type": "markdown",
   "id": "65c14550",
   "metadata": {},
   "source": [
    "## Définition du modèle  "
   ]
  },
  {
   "cell_type": "markdown",
   "id": "0ae87b5f",
   "metadata": {},
   "source": [
    "Nous avons d'abord choisi d'utiliser le CNN car c'est un model disposant de bonne performance et est très documenté. "
   ]
  },
  {
   "cell_type": "markdown",
   "id": "988c34e8",
   "metadata": {},
   "source": [
    "Ce modèle étant notre première expérience en NN nous avons préferé ne predire que la catégorie principale. "
   ]
  },
  {
   "cell_type": "markdown",
   "id": "a12d0418",
   "metadata": {},
   "source": [
    "Ce premier modèle est composé de plusieurs type de couche différentes : "
   ]
  },
  {
   "cell_type": "markdown",
   "id": "079ea92f",
   "metadata": {},
   "source": [
    "Tout d'abord les embbeding layer qui convertissent les tokens en vecteur ce qui permet de capturer une certaine relation sémantique entre les mots "
   ]
  },
  {
   "cell_type": "markdown",
   "id": "aa67b496",
   "metadata": {},
   "source": [
    "Ensuite, les Conv1D qui applique les opérations de convolution détectant les motifs dans le texte "
   ]
  },
  {
   "cell_type": "markdown",
   "id": "bb557b79",
   "metadata": {},
   "source": [
    "Ensuite la MaxPooling1D réduit les dimensions des caractéristiques trouvées par la convolution. Cela permet de garder un maximum d'informations tout en réduisant le nombre de paramètres du modèle "
   ]
  },
  {
   "cell_type": "markdown",
   "id": "c7266757",
   "metadata": {},
   "source": [
    "Ensuite, la GlobalMaxPooling1D fait la même chose que la précèdente mais de manière plus extrême"
   ]
  },
  {
   "cell_type": "markdown",
   "id": "226ad09d",
   "metadata": {},
   "source": [
    "Pour finir, Dense qui interpète les paramètres triés par les couches precedentes et qui permettent d'apprendre les relations complexes entre les mots "
   ]
  },
  {
   "cell_type": "code",
   "execution_count": 24,
   "id": "aa3f4499",
   "metadata": {},
   "outputs": [
    {
     "name": "stderr",
     "output_type": "stream",
     "text": [
      "/Users/yilmaz-a/anaconda3/lib/python3.11/site-packages/keras/src/layers/core/embedding.py:90: UserWarning: Argument `input_length` is deprecated. Just remove it.\n",
      "  warnings.warn(\n"
     ]
    }
   ],
   "source": [
    "model = Sequential()\n",
    "model.add(Embedding(input_dim=20000, output_dim=embedding_dim, input_length=300, weights=[embedding_matrix], trainable=False))\n",
    "model.add(Conv1D(filters=128, kernel_size=10, activation='relu'))\n",
    "model.add(MaxPooling1D(pool_size=2))\n",
    "model.add(Conv1D(filters=128, kernel_size=10, activation='relu'))\n",
    "model.add(GlobalMaxPooling1D())\n",
    "model.add(Dense(10, activation='relu'))\n",
    "model.add(Dense(7, activation='sigmoid'))  # Utilisation de 'sigmoid' pour la classification multi-étiquettes\n"
   ]
  },
  {
   "cell_type": "code",
   "execution_count": null,
   "id": "d17ce4bf",
   "metadata": {},
   "outputs": [
    {
     "data": {
      "text/html": [
       "<pre style=\"white-space:pre;overflow-x:auto;line-height:normal;font-family:Menlo,'DejaVu Sans Mono',consolas,'Courier New',monospace\"><span style=\"font-weight: bold\">Model: \"sequential\"</span>\n",
       "</pre>\n"
      ],
      "text/plain": [
       "\u001b[1mModel: \"sequential\"\u001b[0m\n"
      ]
     },
     "metadata": {},
     "output_type": "display_data"
    },
    {
     "data": {
      "text/html": [
       "<pre style=\"white-space:pre;overflow-x:auto;line-height:normal;font-family:Menlo,'DejaVu Sans Mono',consolas,'Courier New',monospace\">┏━━━━━━━━━━━━━━━━━━━━━━━━━━━━━━━━━┳━━━━━━━━━━━━━━━━━━━━━━━━┳━━━━━━━━━━━━━━━┓\n",
       "┃<span style=\"font-weight: bold\"> Layer (type)                    </span>┃<span style=\"font-weight: bold\"> Output Shape           </span>┃<span style=\"font-weight: bold\">       Param # </span>┃\n",
       "┡━━━━━━━━━━━━━━━━━━━━━━━━━━━━━━━━━╇━━━━━━━━━━━━━━━━━━━━━━━━╇━━━━━━━━━━━━━━━┩\n",
       "│ embedding (<span style=\"color: #0087ff; text-decoration-color: #0087ff\">Embedding</span>)           │ ?                      │     <span style=\"color: #00af00; text-decoration-color: #00af00\">4,000,000</span> │\n",
       "├─────────────────────────────────┼────────────────────────┼───────────────┤\n",
       "│ conv1d (<span style=\"color: #0087ff; text-decoration-color: #0087ff\">Conv1D</span>)                 │ ?                      │   <span style=\"color: #00af00; text-decoration-color: #00af00\">0</span> (unbuilt) │\n",
       "├─────────────────────────────────┼────────────────────────┼───────────────┤\n",
       "│ max_pooling1d (<span style=\"color: #0087ff; text-decoration-color: #0087ff\">MaxPooling1D</span>)    │ ?                      │   <span style=\"color: #00af00; text-decoration-color: #00af00\">0</span> (unbuilt) │\n",
       "├─────────────────────────────────┼────────────────────────┼───────────────┤\n",
       "│ conv1d_1 (<span style=\"color: #0087ff; text-decoration-color: #0087ff\">Conv1D</span>)               │ ?                      │   <span style=\"color: #00af00; text-decoration-color: #00af00\">0</span> (unbuilt) │\n",
       "├─────────────────────────────────┼────────────────────────┼───────────────┤\n",
       "│ global_max_pooling1d            │ ?                      │   <span style=\"color: #00af00; text-decoration-color: #00af00\">0</span> (unbuilt) │\n",
       "│ (<span style=\"color: #0087ff; text-decoration-color: #0087ff\">GlobalMaxPooling1D</span>)            │                        │               │\n",
       "├─────────────────────────────────┼────────────────────────┼───────────────┤\n",
       "│ dense (<span style=\"color: #0087ff; text-decoration-color: #0087ff\">Dense</span>)                   │ ?                      │   <span style=\"color: #00af00; text-decoration-color: #00af00\">0</span> (unbuilt) │\n",
       "├─────────────────────────────────┼────────────────────────┼───────────────┤\n",
       "│ dense_1 (<span style=\"color: #0087ff; text-decoration-color: #0087ff\">Dense</span>)                 │ ?                      │   <span style=\"color: #00af00; text-decoration-color: #00af00\">0</span> (unbuilt) │\n",
       "└─────────────────────────────────┴────────────────────────┴───────────────┘\n",
       "</pre>\n"
      ],
      "text/plain": [
       "┏━━━━━━━━━━━━━━━━━━━━━━━━━━━━━━━━━┳━━━━━━━━━━━━━━━━━━━━━━━━┳━━━━━━━━━━━━━━━┓\n",
       "┃\u001b[1m \u001b[0m\u001b[1mLayer (type)                   \u001b[0m\u001b[1m \u001b[0m┃\u001b[1m \u001b[0m\u001b[1mOutput Shape          \u001b[0m\u001b[1m \u001b[0m┃\u001b[1m \u001b[0m\u001b[1m      Param #\u001b[0m\u001b[1m \u001b[0m┃\n",
       "┡━━━━━━━━━━━━━━━━━━━━━━━━━━━━━━━━━╇━━━━━━━━━━━━━━━━━━━━━━━━╇━━━━━━━━━━━━━━━┩\n",
       "│ embedding (\u001b[38;5;33mEmbedding\u001b[0m)           │ ?                      │     \u001b[38;5;34m4,000,000\u001b[0m │\n",
       "├─────────────────────────────────┼────────────────────────┼───────────────┤\n",
       "│ conv1d (\u001b[38;5;33mConv1D\u001b[0m)                 │ ?                      │   \u001b[38;5;34m0\u001b[0m (unbuilt) │\n",
       "├─────────────────────────────────┼────────────────────────┼───────────────┤\n",
       "│ max_pooling1d (\u001b[38;5;33mMaxPooling1D\u001b[0m)    │ ?                      │   \u001b[38;5;34m0\u001b[0m (unbuilt) │\n",
       "├─────────────────────────────────┼────────────────────────┼───────────────┤\n",
       "│ conv1d_1 (\u001b[38;5;33mConv1D\u001b[0m)               │ ?                      │   \u001b[38;5;34m0\u001b[0m (unbuilt) │\n",
       "├─────────────────────────────────┼────────────────────────┼───────────────┤\n",
       "│ global_max_pooling1d            │ ?                      │   \u001b[38;5;34m0\u001b[0m (unbuilt) │\n",
       "│ (\u001b[38;5;33mGlobalMaxPooling1D\u001b[0m)            │                        │               │\n",
       "├─────────────────────────────────┼────────────────────────┼───────────────┤\n",
       "│ dense (\u001b[38;5;33mDense\u001b[0m)                   │ ?                      │   \u001b[38;5;34m0\u001b[0m (unbuilt) │\n",
       "├─────────────────────────────────┼────────────────────────┼───────────────┤\n",
       "│ dense_1 (\u001b[38;5;33mDense\u001b[0m)                 │ ?                      │   \u001b[38;5;34m0\u001b[0m (unbuilt) │\n",
       "└─────────────────────────────────┴────────────────────────┴───────────────┘\n"
      ]
     },
     "metadata": {},
     "output_type": "display_data"
    },
    {
     "data": {
      "text/html": [
       "<pre style=\"white-space:pre;overflow-x:auto;line-height:normal;font-family:Menlo,'DejaVu Sans Mono',consolas,'Courier New',monospace\"><span style=\"font-weight: bold\"> Total params: </span><span style=\"color: #00af00; text-decoration-color: #00af00\">4,000,000</span> (15.26 MB)\n",
       "</pre>\n"
      ],
      "text/plain": [
       "\u001b[1m Total params: \u001b[0m\u001b[38;5;34m4,000,000\u001b[0m (15.26 MB)\n"
      ]
     },
     "metadata": {},
     "output_type": "display_data"
    },
    {
     "data": {
      "text/html": [
       "<pre style=\"white-space:pre;overflow-x:auto;line-height:normal;font-family:Menlo,'DejaVu Sans Mono',consolas,'Courier New',monospace\"><span style=\"font-weight: bold\"> Trainable params: </span><span style=\"color: #00af00; text-decoration-color: #00af00\">0</span> (0.00 B)\n",
       "</pre>\n"
      ],
      "text/plain": [
       "\u001b[1m Trainable params: \u001b[0m\u001b[38;5;34m0\u001b[0m (0.00 B)\n"
      ]
     },
     "metadata": {},
     "output_type": "display_data"
    },
    {
     "data": {
      "text/html": [
       "<pre style=\"white-space:pre;overflow-x:auto;line-height:normal;font-family:Menlo,'DejaVu Sans Mono',consolas,'Courier New',monospace\"><span style=\"font-weight: bold\"> Non-trainable params: </span><span style=\"color: #00af00; text-decoration-color: #00af00\">4,000,000</span> (15.26 MB)\n",
       "</pre>\n"
      ],
      "text/plain": [
       "\u001b[1m Non-trainable params: \u001b[0m\u001b[38;5;34m4,000,000\u001b[0m (15.26 MB)\n"
      ]
     },
     "metadata": {},
     "output_type": "display_data"
    },
    {
     "name": "stdout",
     "output_type": "stream",
     "text": [
      "Epoch 1/8\n",
      "\u001b[1m911/911\u001b[0m \u001b[32m━━━━━━━━━━━━━━━━━━━━\u001b[0m\u001b[37m\u001b[0m \u001b[1m41s\u001b[0m 45ms/step - accuracy: 0.2113 - loss: 0.5620 - val_accuracy: 0.2426 - val_loss: 0.4567\n",
      "Epoch 2/8\n",
      "\u001b[1m911/911\u001b[0m \u001b[32m━━━━━━━━━━━━━━━━━━━━\u001b[0m\u001b[37m\u001b[0m \u001b[1m42s\u001b[0m 46ms/step - accuracy: 0.2619 - loss: 0.4436 - val_accuracy: 0.2765 - val_loss: 0.4419\n",
      "Epoch 3/8\n",
      "\u001b[1m911/911\u001b[0m \u001b[32m━━━━━━━━━━━━━━━━━━━━\u001b[0m\u001b[37m\u001b[0m \u001b[1m41s\u001b[0m 45ms/step - accuracy: 0.2900 - loss: 0.4264 - val_accuracy: 0.3024 - val_loss: 0.4306\n",
      "Epoch 4/8\n",
      "\u001b[1m911/911\u001b[0m \u001b[32m━━━━━━━━━━━━━━━━━━━━\u001b[0m\u001b[37m\u001b[0m \u001b[1m41s\u001b[0m 46ms/step - accuracy: 0.3102 - loss: 0.4115 - val_accuracy: 0.3702 - val_loss: 0.4268\n",
      "Epoch 5/8\n",
      "\u001b[1m911/911\u001b[0m \u001b[32m━━━━━━━━━━━━━━━━━━━━\u001b[0m\u001b[37m\u001b[0m \u001b[1m42s\u001b[0m 46ms/step - accuracy: 0.3954 - loss: 0.4033 - val_accuracy: 0.3655 - val_loss: 0.4310\n",
      "Epoch 6/8\n",
      "\u001b[1m911/911\u001b[0m \u001b[32m━━━━━━━━━━━━━━━━━━━━\u001b[0m\u001b[37m\u001b[0m \u001b[1m43s\u001b[0m 48ms/step - accuracy: 0.4132 - loss: 0.3931 - val_accuracy: 0.3760 - val_loss: 0.4304\n",
      "Epoch 7/8\n",
      "\u001b[1m911/911\u001b[0m \u001b[32m━━━━━━━━━━━━━━━━━━━━\u001b[0m\u001b[37m\u001b[0m \u001b[1m43s\u001b[0m 47ms/step - accuracy: 0.4232 - loss: 0.3914 - val_accuracy: 0.3857 - val_loss: 0.4291\n",
      "Epoch 8/8\n",
      "\u001b[1m217/911\u001b[0m \u001b[32m━━━━\u001b[0m\u001b[37m━━━━━━━━━━━━━━━━\u001b[0m \u001b[1m30s\u001b[0m 43ms/step - accuracy: 0.4228 - loss: 0.3857"
     ]
    }
   ],
   "source": [
    "model.compile(optimizer='adam', loss='binary_crossentropy', metrics=['accuracy'])\n",
    "model.summary()\n",
    "model.fit(X_train, y_train_main, epochs=8, batch_size=32, validation_split=0.2)\n",
    "loss, accuracy = model.evaluate(X_test, y_test_main)\n",
    "print(f\"Loss: {loss}, Accuracy: {accuracy}\")\n",
    "print(f\"Classes: {mlb.classes}\")\n"
   ]
  },
  {
   "cell_type": "markdown",
   "id": "7943dcae",
   "metadata": {},
   "source": [
    "Calcul du F1 score"
   ]
  },
  {
   "cell_type": "code",
   "execution_count": null,
   "id": "d33a2ab4",
   "metadata": {},
   "outputs": [],
   "source": [
    "y_pred = model.predict(X_test)\n",
    "y_pred_binary = (y_pred > 0.5).astype(int)\n",
    "f1_micro = f1_score(y_test_main, y_pred_binary, average='micro')\n",
    "print(f\"F1 Score (micro): {f1_micro}\")"
   ]
  },
  {
   "cell_type": "markdown",
   "id": "bea7f6df",
   "metadata": {},
   "source": [
    "Le modèle a un résultat correcte mais toujours insuffisant, nous avons donc ajouté des couches de BI-LSTM dans notre modèle final afin de mieux lier les mots entre eux. "
   ]
  },
  {
   "cell_type": "markdown",
   "id": "6a25a383",
   "metadata": {},
   "source": [
    "---"
   ]
  },
  {
   "cell_type": "markdown",
   "id": "b30f9f59",
   "metadata": {},
   "source": [
    "### Notre modèle final"
   ]
  },
  {
   "cell_type": "markdown",
   "id": "4e0d6bdd",
   "metadata": {},
   "source": [
    "Mais avant cela il est important d'expliquer que le modèle prédit 2 résultats à la fois. Pour réaliser cela, le modèle se scinde en 2 afin de prédire d'un côté les catégories principales et de l'autres les sous-catégories. Malgré que la branche des catégories principales peut paraître inutile car elle est comprise dans les sous-catégories nous l'avons gardée comme ça, car elle nous donne énormément d'inforamtions sur précision du modèle et la perte de celle-ci quand on passe à une prédiction avec beaucoup plus de catégories."
   ]
  },
  {
   "cell_type": "markdown",
   "id": "df03c924",
   "metadata": {},
   "source": [
    "Nous allons voir comment les couches dont nous n'avons pas parler plus haut, notament BI-LSTM et dropout"
   ]
  },
  {
   "cell_type": "markdown",
   "id": "13ad3bca",
   "metadata": {},
   "source": [
    "La couche BI-LSTM permet de traiter les dépendances à long terme et ajoute donc un véritable plus à notre modèle "
   ]
  },
  {
   "cell_type": "markdown",
   "id": "13feb9f5",
   "metadata": {},
   "source": [
    "Les couches dropout desactivent des neurones afin d'éviter le surentraînement "
   ]
  },
  {
   "cell_type": "code",
   "execution_count": null,
   "id": "672dce73",
   "metadata": {},
   "outputs": [],
   "source": [
    "input_layer = Input(shape=(300,))\n",
    "embedding_layer = Embedding(input_dim=20000, output_dim=200, input_length=300, trainable=True)(input_layer)\n",
    "conv1d_layer1 = Conv1D(filters=128, kernel_size=5, activation='relu')(embedding_layer)\n",
    "maxpooling_layer1 = MaxPooling1D(pool_size=2)(conv1d_layer1)\n",
    "conv1d_layer2 = Conv1D(filters=128, kernel_size=5, activation='relu')(maxpooling_layer1)\n",
    "maxpooling_layer2 = MaxPooling1D(pool_size=2)(conv1d_layer2)\n",
    "lstm_layer = Bidirectional(LSTM(128, return_sequences=True))(maxpooling_layer2)\n",
    "globalmaxpooling_layer = GlobalMaxPooling1D()(lstm_layer)"
   ]
  },
  {
   "cell_type": "markdown",
   "id": "eb6e2f5d",
   "metadata": {},
   "source": [
    "Une fois que le \"tronc\" du modèle est là nous pouvons passer au deux branches pour les catégories et sous-catégories "
   ]
  },
  {
   "cell_type": "markdown",
   "id": "0a53782f",
   "metadata": {},
   "source": [
    "Avant toutes les catégories :"
   ]
  },
  {
   "cell_type": "code",
   "execution_count": null,
   "id": "49f912e9",
   "metadata": {},
   "outputs": [],
   "source": [
    "dense_layer_main = Dense(128, activation='relu')(globalmaxpooling_layer)\n",
    "dropout_layer_main = Dropout(0.3)(dense_layer_main)\n",
    "output_layer_main = Dense(len(all_main_labels), activation='sigmoid', name='main_output')(dropout_layer_main)"
   ]
  },
  {
   "cell_type": "markdown",
   "id": "d4ec9180",
   "metadata": {},
   "source": [
    "Ensuite les sous-catégories :"
   ]
  },
  {
   "cell_type": "code",
   "execution_count": null,
   "id": "7475694d",
   "metadata": {},
   "outputs": [],
   "source": [
    "dense_layer_sub = Dense(128, activation='relu')(globalmaxpooling_layer)\n",
    "dropout_layer_sub = Dropout(0.3)(dense_layer_sub)\n",
    "output_layer_sub = Dense(len(all_sub_categories), activation='sigmoid', name='sub_output')(dropout_layer_sub)\n"
   ]
  },
  {
   "cell_type": "markdown",
   "id": "6ef8e5ea",
   "metadata": {},
   "source": [
    "---"
   ]
  },
  {
   "cell_type": "markdown",
   "id": "bb2243d9",
   "metadata": {},
   "source": [
    "Nous allons maintenant définir et compiler notre modèle : "
   ]
  },
  {
   "cell_type": "code",
   "execution_count": null,
   "id": "6c18abf4",
   "metadata": {},
   "outputs": [],
   "source": [
    "model = Model(inputs=input_layer, outputs=[output_layer_main, output_layer_sub])\n"
   ]
  },
  {
   "cell_type": "markdown",
   "id": "20b5600e",
   "metadata": {},
   "source": [
    "Compilation : "
   ]
  },
  {
   "cell_type": "code",
   "execution_count": null,
   "id": "3ca88a1e",
   "metadata": {},
   "outputs": [],
   "source": [
    "optimizer = Adam(learning_rate=0.0005)\n",
    "model.compile(optimizer=optimizer, loss={'main_output': 'binary_crossentropy', 'sub_output': 'binary_crossentropy'}, metrics=['accuracy'])\n"
   ]
  },
  {
   "cell_type": "markdown",
   "id": "492746e3",
   "metadata": {},
   "source": [
    "--- "
   ]
  },
  {
   "cell_type": "markdown",
   "id": "23ae705a",
   "metadata": {},
   "source": [
    "---"
   ]
  },
  {
   "cell_type": "markdown",
   "id": "b27f7721",
   "metadata": {},
   "source": [
    "---"
   ]
  },
  {
   "cell_type": "markdown",
   "id": "6587747e",
   "metadata": {},
   "source": [
    "## Entraînement et performance"
   ]
  },
  {
   "cell_type": "markdown",
   "id": "53db5012",
   "metadata": {},
   "source": [
    "Afin de trouver les meilleurs paramètres pour notre modèle, nous avons créer une fonction qui va tester un certain nombre de ceux-ci et garder le meilleur. "
   ]
  },
  {
   "cell_type": "raw",
   "id": "a91c1d5a",
   "metadata": {},
   "source": [
    "\n",
    "def hyperparameter_search(X_train, y_train_main, y_train_sub, X_test, y_test_main, y_test_sub, max_words, embedding_dim, embedding_matrix):\n",
    "    best_f1 = 0\n",
    "    best_params = {}\n",
    "\n",
    "    for max_len in [100, 150, 200]:\n",
    "        for lstm_units in [32, 64, 128]:\n",
    "            for dropout_rate in [0.3, 0.5]:\n",
    "                for epochs in [5, 10]:\n",
    "                    for batch_size in [64, 128]:\n",
    "                        for filters in [64, 128]:\n",
    "                            print(f\"Testing with max_len={max_len}, lstm_units={lstm_units}, dropout_rate={dropout_rate}, epochs={epochs}, batch_size={batch_size}, filters={filters}\")\n",
    "                            model = create_model(max_len, lstm_units, dropout_rate, y_train_main.shape[1], y_train_sub.shape[1], embedding_matrix, filters)\n",
    "                            \n",
    "                            # Ajuster les données pour correspondre à max_len\n",
    "                            X_train_padded = pad_sequences(X_train, maxlen=max_len)\n",
    "                            X_test_padded = pad_sequences(X_test, maxlen=max_len)\n",
    "                            \n",
    "                            model.fit(X_train_padded, {'main_output': y_train_main, 'sub_output': y_train_sub}, epochs=epochs, batch_size=batch_size, validation_split=0.2, verbose=1)\n",
    "                            \n",
    "                            y_pred_main, y_pred_sub = model.predict(X_test_padded)\n",
    "                            y_pred_main_binary = (y_pred_main > 0.5).astype(int)\n",
    "                            y_pred_sub_binary = (y_pred_sub > 0.5).astype(int)\n",
    "                            \n",
    "                            f1_main = f1_score(y_test_main, y_pred_main_binary, average='micro')\n",
    "                            f1_sub = f1_score(y_test_sub, y_pred_sub_binary, average='micro')\n",
    "                            f1_avg = (f1_main + f1_sub) / 2\n",
    "                            \n",
    "                            if f1_avg > best_f1:\n",
    "                                best_f1 = f1_avg\n",
    "                                best_params = {'max_len': max_len, 'lstm_units': lstm_units, 'dropout_rate': dropout_rate, 'epochs': epochs, 'batch_size': batch_size, 'filters': filters}\n",
    "    \n",
    "    print(f\"Best F1 Score: {best_f1}\")\n",
    "    print(f\"Best Parameters: {best_params}\")\n",
    "\n",
    "    return best_params"
   ]
  },
  {
   "cell_type": "markdown",
   "id": "ccd82b1c",
   "metadata": {},
   "source": [
    "Cette fonction teste 144 possibilités et a run pendant plus de 32h pour nous donner le résultat suivant :\n",
    "Best Parameters: {'max_len': 150, 'lstm_units': 128, 'dropout_rate': 0.3, 'epochs': 10, 'batch_size': 64, 'filters': 128}"
   ]
  },
  {
   "cell_type": "raw",
   "id": "c10e359b",
   "metadata": {},
   "source": [
    "Ces résultats étaient concluant mais nous nous sommes rapidement rendu compte que nous sous-exploitions la variable max_len et nous avons donc decider de mener plus de test sur celle-ci nous amenant à prendre 400 comme valeur"
   ]
  },
  {
   "cell_type": "markdown",
   "id": "1c2e0e91",
   "metadata": {},
   "source": [
    "---"
   ]
  },
  {
   "cell_type": "markdown",
   "id": "0b25c785",
   "metadata": {},
   "source": [
    "Nous pouvons maintenant passer à l'entraînement du modèle grâce aux hyperparamètres trouver par notre fonction"
   ]
  },
  {
   "cell_type": "code",
   "execution_count": null,
   "id": "07b2499e",
   "metadata": {},
   "outputs": [],
   "source": [
    "model.fit(X_train, {'main_output': y_train_main, 'sub_output': y_train_sub}, epochs=10, batch_size=64, validation_split=0.2)\n"
   ]
  },
  {
   "cell_type": "markdown",
   "id": "c0b1b29a",
   "metadata": {},
   "source": [
    "---\n"
   ]
  },
  {
   "cell_type": "markdown",
   "id": "0c2b5b27",
   "metadata": {},
   "source": [
    "---"
   ]
  },
  {
   "cell_type": "markdown",
   "id": "e8d38e00",
   "metadata": {},
   "source": [
    "---"
   ]
  },
  {
   "cell_type": "markdown",
   "id": "0ad41798",
   "metadata": {},
   "source": [
    "## Evaluation du modèle "
   ]
  },
  {
   "cell_type": "markdown",
   "id": "7cfe10b4",
   "metadata": {},
   "source": [
    "On teste le modèle sur la variable de test "
   ]
  },
  {
   "cell_type": "code",
   "execution_count": null,
   "id": "5c85f602",
   "metadata": {},
   "outputs": [],
   "source": [
    "\n",
    "y_pred_main, y_pred_sub = model.predict(X_test)"
   ]
  },
  {
   "cell_type": "markdown",
   "id": "53554c08",
   "metadata": {},
   "source": [
    "On binarise les résultats. La valeur de chaque colonne correspond à l'appartenance ou non à une catégorie et la valeur est comprise entre 0 et 1. On met le seuil a 0.5 -> si la valeur est "
   ]
  },
  {
   "cell_type": "code",
   "execution_count": null,
   "id": "e0154bfc",
   "metadata": {},
   "outputs": [],
   "source": [
    "\n",
    "y_pred_main_binary = (y_pred_main > 0.3).astype(int)\n",
    "y_pred_sub_binary = (y_pred_sub > 0.3).astype(int)"
   ]
  },
  {
   "cell_type": "markdown",
   "id": "e3946272",
   "metadata": {},
   "source": [
    "On calcule la précision, le recall et le F1 pour les catégories principales "
   ]
  },
  {
   "cell_type": "code",
   "execution_count": null,
   "id": "cc6af7c2",
   "metadata": {},
   "outputs": [],
   "source": [
    "\n",
    "precision_main = precision_score(y_test_main, y_pred_main_binary, average='micro')\n",
    "recall_main = recall_score(y_test_main, y_pred_main_binary, average='micro')\n",
    "f1_main = f1_score(y_test_main, y_pred_main_binary, average='micro')"
   ]
  },
  {
   "cell_type": "markdown",
   "id": "4449bf3a",
   "metadata": {},
   "source": [
    "On affiche les données calculées"
   ]
  },
  {
   "cell_type": "code",
   "execution_count": null,
   "id": "b7c85047",
   "metadata": {},
   "outputs": [],
   "source": [
    "print(f\"Precision (main): {precision_main}\")\n",
    "print(f\"Recall (main): {recall_main}\")\n",
    "print(f\"F1 Score (main): {f1_main}\")"
   ]
  },
  {
   "cell_type": "markdown",
   "id": "24a56db8",
   "metadata": {},
   "source": [
    "On calcule la précision, le recall et le F1 pour les sous-catégories"
   ]
  },
  {
   "cell_type": "code",
   "execution_count": null,
   "id": "d459f6bc",
   "metadata": {},
   "outputs": [],
   "source": [
    "precision_sub = precision_score(y_test_sub, y_pred_sub_binary, average='micro')\n",
    "recall_sub = recall_score(y_test_sub, y_pred_sub_binary, average='micro')\n",
    "f1_sub = f1_score(y_test_sub, y_pred_sub_binary, average='micro')"
   ]
  },
  {
   "cell_type": "markdown",
   "id": "82aae1ee",
   "metadata": {},
   "source": [
    "On affiche les données calculées"
   ]
  },
  {
   "cell_type": "code",
   "execution_count": null,
   "id": "660e9aa3",
   "metadata": {},
   "outputs": [],
   "source": [
    "print(f\"Precision (sub): {precision_sub}\")\n",
    "print(f\"Recall (sub): {recall_sub}\")\n",
    "print(f\"F1 Score (sub): {f1_sub}\")"
   ]
  },
  {
   "cell_type": "markdown",
   "id": "6345ccfc",
   "metadata": {},
   "source": [
    "Courbe ROC et AUC pour les classes principales"
   ]
  },
  {
   "cell_type": "code",
   "execution_count": null,
   "id": "0aa40df4",
   "metadata": {},
   "outputs": [],
   "source": [
    "\n",
    "fpr_main, tpr_main, _ = roc_curve(y_test_main.ravel(), y_pred_main.ravel())\n",
    "roc_auc_main = auc(fpr_main, tpr_main)\n",
    "\n",
    "plt.figure()\n",
    "plt.plot(fpr_main, tpr_main, color='blue', lw=2, label=f'ROC curve (area = {roc_auc_main:0.2f})')\n",
    "plt.plot([0, 1], [0, 1], color='gray', lw=2, linestyle='--')\n",
    "plt.xlim([0.0, 1.0])\n",
    "plt.ylim([0.0, 1.05])\n",
    "plt.xlabel('False Positive Rate')\n",
    "plt.ylabel('True Positive Rate')\n",
    "plt.title('Receiver Operating Characteristic - Main Output')\n",
    "plt.legend(loc=\"lower right\")\n",
    "plt.show()"
   ]
  },
  {
   "cell_type": "markdown",
   "id": "49d551c6",
   "metadata": {},
   "source": [
    " Courbe ROC et AUC pour les sous-catégories"
   ]
  },
  {
   "cell_type": "code",
   "execution_count": null,
   "id": "64a07358",
   "metadata": {},
   "outputs": [],
   "source": [
    "\n",
    "fpr_sub, tpr_sub, _ = roc_curve(y_test_sub.ravel(), y_pred_sub.ravel())\n",
    "roc_auc_sub = auc(fpr_sub, tpr_sub)\n",
    "\n",
    "plt.figure()\n",
    "plt.plot(fpr_sub, tpr_sub, color='green', lw=2, label=f'ROC curve (area = {roc_auc_sub:0.2f})')\n",
    "plt.plot([0, 1], [0, 1], color='gray', lw=2, linestyle='--')\n",
    "plt.xlim([0.0, 1.0])\n",
    "plt.ylim([0.0, 1.05])\n",
    "plt.xlabel('False Positive Rate')\n",
    "plt.ylabel('True Positive Rate')\n",
    "plt.title('Receiver Operating Characteristic - Sub-categories Output')\n",
    "plt.legend(loc=\"lower right\")\n",
    "plt.show()"
   ]
  },
  {
   "cell_type": "markdown",
   "id": "20ae6050",
   "metadata": {},
   "source": [
    "On affiche le matrice de confusion pour les catégories"
   ]
  },
  {
   "cell_type": "code",
   "execution_count": null,
   "id": "17428946",
   "metadata": {},
   "outputs": [],
   "source": [
    "# Matrice de confusion pour les classes principales\n",
    "conf_matrix_main = confusion_matrix(y_test_main.argmax(axis=1), y_pred_main_binary.argmax(axis=1))\n",
    "plt.figure(figsize=(10, 7))\n",
    "sns.heatmap(conf_matrix_main, annot=True, fmt='d', cmap='Blues')\n",
    "plt.xlabel('Predicted')\n",
    "plt.ylabel('Actual')\n",
    "plt.title('Confusion Matrix - Main Output')\n",
    "plt.show()"
   ]
  },
  {
   "cell_type": "code",
   "execution_count": null,
   "id": "da4d6406",
   "metadata": {},
   "outputs": [],
   "source": []
  },
  {
   "cell_type": "markdown",
   "id": "a9ae0e0c",
   "metadata": {},
   "source": [
    "On affiche la matrice de confusion pour les sous-catégories"
   ]
  },
  {
   "cell_type": "code",
   "execution_count": null,
   "id": "c566cd1b",
   "metadata": {},
   "outputs": [],
   "source": [
    "\n",
    "conf_matrix_sub = confusion_matrix(y_test_sub.argmax(axis=1), y_pred_sub_binary.argmax(axis=1))\n",
    "plt.figure(figsize=(10, 7))\n",
    "sns.heatmap(conf_matrix_sub, annot=True, fmt='d', cmap='Blues')\n",
    "plt.xlabel('Predicted')\n",
    "plt.ylabel('Actual')\n",
    "plt.title('Confusion Matrix - Sub-categories Output')\n",
    "plt.show()"
   ]
  },
  {
   "cell_type": "markdown",
   "id": "56c7cb71",
   "metadata": {},
   "source": [
    "---"
   ]
  },
  {
   "cell_type": "markdown",
   "id": "cfaeab8e",
   "metadata": {},
   "source": [
    "---"
   ]
  },
  {
   "cell_type": "markdown",
   "id": "929eeecd",
   "metadata": {},
   "source": [
    "---"
   ]
  },
  {
   "cell_type": "markdown",
   "id": "1c579b7e",
   "metadata": {},
   "source": [
    "sauvegarder le model pour l'appli"
   ]
  },
  {
   "cell_type": "raw",
   "id": "28ad5360",
   "metadata": {},
   "source": [
    "model.save('mon_modele.h5')"
   ]
  },
  {
   "cell_type": "code",
   "execution_count": null,
   "id": "18beb75c",
   "metadata": {},
   "outputs": [],
   "source": []
  },
  {
   "cell_type": "markdown",
   "id": "15142801",
   "metadata": {},
   "source": [
    "---"
   ]
  },
  {
   "cell_type": "markdown",
   "id": "0a7098ae",
   "metadata": {},
   "source": [
    "---"
   ]
  },
  {
   "cell_type": "markdown",
   "id": "d8589d6f",
   "metadata": {},
   "source": [
    "---"
   ]
  },
  {
   "cell_type": "markdown",
   "id": "87e76952",
   "metadata": {},
   "source": [
    "## Explicabilité du modèle  "
   ]
  },
  {
   "cell_type": "markdown",
   "id": "097ef0a2",
   "metadata": {},
   "source": [
    "cette partie va nous permettre d'expliquer le model et de tester des prédictions sur une ligne en particulier afin de "
   ]
  },
  {
   "cell_type": "code",
   "execution_count": null,
   "id": "5fb81057",
   "metadata": {},
   "outputs": [],
   "source": [
    "\n",
    "\n",
    "class_names_main = all_main_labels\n",
    "explainer_main = LimeTextExplainer(class_names=class_names_main)\n",
    "\n",
    "text_a_predire=0\n",
    "def predict_proba_main(texts):\n",
    "    sequences = tokenizer.texts_to_sequences(texts)\n",
    "    data = pad_sequences(sequences, maxlen=300)\n",
    "    predictions_main = model.predict(data)[0]  \n",
    "    return predictions_main\n",
    "\n",
    "text_to_explain_main = df['text'].iloc[text_a_predire]\n",
    "exp_main = explainer_main.explain_instance(text_to_explain_main, predict_proba_main, num_features=10, top_labels=2)\n",
    "\n",
    "\n",
    "print(\"Explications pour les classes principales:\")\n",
    "print(f\"Les catégories de la base de données sont {df['labels'].iloc[text_a_predire]}\")\n",
    "exp_main.show_in_notebook(text=True)\n",
    "\n",
    "\n",
    "class_names_sub = all_sub_categories\n",
    "explainer_sub = LimeTextExplainer(class_names=class_names_sub)\n",
    "\n",
    "def predict_proba_sub(texts):\n",
    "    sequences = tokenizer.texts_to_sequences(texts)\n",
    "    data = pad_sequences(sequences, maxlen=300)\n",
    "    predictions_sub = model.predict(data)[1]  \n",
    "    return predictions_sub\n",
    "\n",
    "text_to_explain_sub = df['text'].iloc[text_a_predire]\n",
    "exp_sub = explainer_sub.explain_instance(text_to_explain_sub, predict_proba_sub, num_features=10, top_labels=2)\n",
    "\n",
    "\n",
    "print(\"\\nExplications pour les sous-classes:\")\n",
    "print(f\"Les sous catégories de la base de données sont {df['sub_categories'].iloc[text_a_predire]}\")\n",
    "\n",
    "exp_sub.show_in_notebook(text=True)\n"
   ]
  },
  {
   "cell_type": "markdown",
   "id": "85b0c7ad",
   "metadata": {},
   "source": [
    "---"
   ]
  },
  {
   "cell_type": "markdown",
   "id": "89a70ee2",
   "metadata": {},
   "source": [
    "---"
   ]
  },
  {
   "cell_type": "markdown",
   "id": "978590f3",
   "metadata": {},
   "source": [
    "---"
   ]
  },
  {
   "cell_type": "code",
   "execution_count": null,
   "id": "89f44d6a",
   "metadata": {},
   "outputs": [],
   "source": [
    "import tkinter as tk\n",
    "from tkinter import scrolledtext\n",
    "from lime.lime_text import LimeTextExplainer\n",
    "from tensorflow.keras.preprocessing.sequence import pad_sequences\n",
    "\n",
    "# Configuration de Tkinter\n",
    "root = tk.Tk()\n",
    "root.title(\"Prédiction de Classe\")\n",
    "\n",
    "# Configuration des widgets\n",
    "label = tk.Label(root, text=\"Entrez votre texte:\")\n",
    "label.pack()\n",
    "\n",
    "text_input = tk.Entry(root, width=50)\n",
    "text_input.pack()\n",
    "\n",
    "output = scrolledtext.ScrolledText(root, width=200, height=40, wrap=tk.WORD)\n",
    "output.pack()\n",
    "\n",
    "\n",
    "# Initialisation de LimeTextExplainer\n",
    "explainer = LimeTextExplainer(class_names=all_main_labels)\n",
    "\n",
    "# Fonction de prédiction pour LIME\n",
    "def predict_proba(texts):\n",
    "    sequences = tokenizer.texts_to_sequences(texts)\n",
    "    data = pad_sequences(sequences, maxlen=150)\n",
    "    return model.predict(data)[0]\n",
    "\n",
    "# Fonction pour obtenir la couleur en fonction du poids\n",
    "def get_color(weight, order, total, positive=True):\n",
    "    alpha = int(200 * (1.0 - order / (total - 1))) + 55  # Plafonner à partir de 55 pour éviter le noir\n",
    "    if weight < 0:\n",
    "        return f'#{alpha:02x}0000'  # Nuances de rouge avec opacité ajustée\n",
    "    else:\n",
    "        return f'#00{alpha:02x}00'  # Nuances de vert clair avec opacité ajustée\n",
    "\n",
    "# Fonction de prédiction\n",
    "def on_predict_button_clicked():\n",
    "    text = text_input.get().strip()\n",
    "    if text:\n",
    "        try:\n",
    "            # Explication avec LIME\n",
    "            exp = explainer.explain_instance(text, predict_proba, num_features=10, top_labels=1)\n",
    "            exp_map = exp.as_list(label=exp.top_labels[0])\n",
    "\n",
    "            # Tri des poids des mots par ordre croissant (positifs) et décroissant (négatifs)\n",
    "            sorted_exp_map_positive = sorted([item for item in exp_map if item[1] >= 0], key=lambda x: x[1],reverse=True)\n",
    "            sorted_exp_map_negative = sorted([item for item in exp_map if item[1] < 0], key=lambda x: x[1])\n",
    "            print(sorted_exp_map_positive)\n",
    "            print(sorted_exp_map_negative)\n",
    "            # Dictionnaire pour les mots à surligner avec ordre\n",
    "            word_weights_pos = {word.lower().strip('.,!?;'): (weight, idx, len(sorted_exp_map_positive)) for idx, (word, weight) in enumerate(sorted_exp_map_positive)}\n",
    "            word_weights_neg = {word.lower().strip('.,!?;'): (weight, idx, len(sorted_exp_map_negative)) for idx, (word, weight) in enumerate(sorted_exp_map_negative)}\n",
    "\n",
    "            # Obtenir les probabilités de prédiction\n",
    "            proba = predict_proba([text])[0]\n",
    "\n",
    "            output.delete(1.0, tk.END)\n",
    "            # Affichage des classes et probabilités supérieures à 0,01\n",
    "            output.insert(tk.END, \"Classes prédites :\\n\")\n",
    "            for i, prob in enumerate(proba):\n",
    "                if prob > 0.01:\n",
    "                    output.insert(tk.END, f\"{all_main_labels[i]}\\n\")\n",
    "                    \n",
    "            # Affichage des poids des mots triés par ordre croissant (positifs)\n",
    "            output.insert(tk.END, \"Poids des mots positifs :\\n\")\n",
    "            for word, weight in sorted_exp_map_positive:\n",
    "                output.insert(tk.END, f\"{word}: {weight:.4f}\\n\")\n",
    "\n",
    "            # Affichage des poids des mots triés par ordre décroissant (négatifs)\n",
    "            output.insert(tk.END, \"\\n\")\n",
    "            output.insert(tk.END, \"Poids des mots négatifs :\\n\")\n",
    "            for word, weight in sorted_exp_map_negative:\n",
    "                output.insert(tk.END, f\"{word}: {weight:.4f}\\n\")\n",
    "\n",
    "            # Réécriture du texte avec surlignage\n",
    "            output.insert(tk.END, \"\\nTexte:\\n\")\n",
    "            words = text.split()\n",
    "            for word in words:\n",
    "                clean_word = word.lower().strip('.,!?;')  # Nettoyage de base pour la correspondance\n",
    "                found_positive = False\n",
    "                found_negative = False\n",
    "\n",
    "                for order, (pos_word, pos_weight) in enumerate(sorted_exp_map_positive):\n",
    "                    if clean_word == pos_word.lower():\n",
    "                        color = get_color(pos_weight, order, len(sorted_exp_map_positive), positive=True)\n",
    "                        tag = f'weight_pos_{order}'\n",
    "                        output.tag_config(tag, background=color)\n",
    "                        output.insert(tk.END, pos_word + ' ', tag)\n",
    "                        found_positive = True\n",
    "                        break\n",
    "\n",
    "                if not found_positive:\n",
    "                    for order, (neg_word, neg_weight) in enumerate(sorted_exp_map_negative):\n",
    "                        if clean_word == neg_word.lower():\n",
    "                            color = get_color(neg_weight, order, len(sorted_exp_map_negative), positive=False)\n",
    "                            tag = f'weight_neg_{order}'\n",
    "                            output.tag_config(tag, background=color)\n",
    "                            output.insert(tk.END, neg_word + ' ', tag)\n",
    "                            found_negative = True\n",
    "                            break\n",
    "\n",
    "                if not found_positive and not found_negative:\n",
    "                    output.insert(tk.END, word + ' ')\n",
    "\n",
    "        except Exception as e:\n",
    "            output.delete(1.0, tk.END)\n",
    "            output.insert(tk.END, f\"Erreur lors de la prédiction: {e}\")\n",
    "\n",
    "# Bouton pour déclencher la prédiction\n",
    "predict_button = tk.Button(root, text=\"Prédire les classes\", command=on_predict_button_clicked)\n",
    "predict_button.pack()\n",
    "\n",
    "# Lancer l'application Tkinter\n",
    "root.mainloop()"
   ]
  },
  {
   "cell_type": "code",
   "execution_count": null,
   "id": "dd0f5a66",
   "metadata": {},
   "outputs": [],
   "source": []
  },
  {
   "cell_type": "code",
   "execution_count": null,
   "id": "aacacf23-ab56-4c83-ad17-ed909a9f31b8",
   "metadata": {},
   "outputs": [],
   "source": []
  },
  {
   "cell_type": "code",
   "execution_count": null,
   "id": "37aecd84-4455-4357-a5c3-1d12ad1cd683",
   "metadata": {},
   "outputs": [],
   "source": []
  },
  {
   "cell_type": "code",
   "execution_count": null,
   "id": "5bcdc01e-bc23-421d-b1be-8a1e2af599d6",
   "metadata": {},
   "outputs": [],
   "source": []
  },
  {
   "cell_type": "code",
   "execution_count": null,
   "id": "b488075c-ebca-4559-a731-1b70acdabcc5",
   "metadata": {},
   "outputs": [],
   "source": []
  },
  {
   "cell_type": "code",
   "execution_count": null,
   "id": "66714109-b8f8-4b0f-acdd-66fa6cd03e00",
   "metadata": {},
   "outputs": [],
   "source": []
  },
  {
   "cell_type": "code",
   "execution_count": null,
   "id": "0ca1fff7-f530-4b44-98b3-6964720852a0",
   "metadata": {},
   "outputs": [],
   "source": []
  }
 ],
 "metadata": {
  "kernelspec": {
   "display_name": "Python 3 (ipykernel)",
   "language": "python",
   "name": "python3"
  },
  "language_info": {
   "codemirror_mode": {
    "name": "ipython",
    "version": 3
   },
   "file_extension": ".py",
   "mimetype": "text/x-python",
   "name": "python",
   "nbconvert_exporter": "python",
   "pygments_lexer": "ipython3",
   "version": "3.11.5"
  }
 },
 "nbformat": 4,
 "nbformat_minor": 5
}
